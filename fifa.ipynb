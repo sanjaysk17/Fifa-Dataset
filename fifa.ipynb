{
 "cells": [
  {
   "cell_type": "code",
   "execution_count": 70,
   "id": "30c7f109",
   "metadata": {},
   "outputs": [],
   "source": [
    "import pandas as pd\n",
    "import numpy as np\n",
    "import matplotlib.pyplot as plt\n",
    "import sympy as sp\n",
    "df=pd.read_excel(\"D:/EDA/Career Mode player datasets - FIFA 15-21.xlsx\")"
   ]
  },
  {
   "cell_type": "markdown",
   "id": "1873cca1",
   "metadata": {},
   "source": [
    "Part 1 – Basic Data Understanding (Pandas)\n",
    "Load the dataset and display the first 10 rows.\n",
    "Show the shape, column names, and data types.\n",
    "Check for missing values and duplicates.\n",
    "Get a summary of numerical and categorical columns using .describe().\n",
    "Find the number of unique clubs and nationalities.\n",
    "Get the most common nationality among players.\n",
    "Find the highest value in overall and corresponding player(s)."
   ]
  },
  {
   "cell_type": "code",
   "execution_count": 71,
   "id": "ce265efd",
   "metadata": {},
   "outputs": [
    {
     "name": "stdout",
     "output_type": "stream",
     "text": [
      "   sofifa_id                                         player_url  \\\n",
      "0     158023  https://sofifa.com/player/158023/lionel-messi/...   \n",
      "1      20801  https://sofifa.com/player/20801/c-ronaldo-dos-...   \n",
      "2       9014  https://sofifa.com/player/9014/arjen-robben/15...   \n",
      "3      41236  https://sofifa.com/player/41236/zlatan-ibrahim...   \n",
      "4     167495  https://sofifa.com/player/167495/manuel-neuer/...   \n",
      "5     176580  https://sofifa.com/player/176580/luis-suarez/1...   \n",
      "6         41  https://sofifa.com/player/41/andres-iniesta-lu...   \n",
      "7     183277  https://sofifa.com/player/183277/eden-hazard/1...   \n",
      "8       7826  https://sofifa.com/player/7826/robin-van-persi...   \n",
      "9     121944  https://sofifa.com/player/121944/bastian-schwe...   \n",
      "\n",
      "          short_name                            long_name  age        dob  \\\n",
      "0           L. Messi       Lionel Andrés Messi Cuccittini   27 1987-06-24   \n",
      "1  Cristiano Ronaldo  Cristiano Ronaldo dos Santos Aveiro   29 1985-02-05   \n",
      "2          A. Robben                         Arjen Robben   30 1984-01-23   \n",
      "3     Z. Ibrahimović                   Zlatan Ibrahimović   32 1981-10-03   \n",
      "4           M. Neuer                         Manuel Neuer   28 1986-03-27   \n",
      "5          L. Suárez             Luis Alberto Suárez Díaz   27 1987-01-24   \n",
      "6            Iniesta                 Andrés Iniesta Luján   30 1984-05-11   \n",
      "7          E. Hazard                          Eden Hazard   23 1991-01-07   \n",
      "8      R. van Persie                     Robin van Persie   30 1983-08-06   \n",
      "9  B. Schweinsteiger               Bastian Schweinsteiger   29 1984-08-01   \n",
      "\n",
      "   height_cm  weight_kg  nationality            club_name  ...   lwb   ldm  \\\n",
      "0        169         67    Argentina         FC Barcelona  ...  62+3  62+3   \n",
      "1        185         80     Portugal          Real Madrid  ...  63+3  63+3   \n",
      "2        180         80  Netherlands    FC Bayern München  ...  64+3  64+3   \n",
      "3        195         95       Sweden  Paris Saint-Germain  ...  61+3  65+3   \n",
      "4        193         92      Germany    FC Bayern München  ...  36+3  40+3   \n",
      "5        181         81      Uruguay         FC Barcelona  ...  67+3  67+3   \n",
      "6        170         65        Spain         FC Barcelona  ...  76+3  77+3   \n",
      "7        173         74      Belgium              Chelsea  ...  62+2  64+2   \n",
      "8        187         71  Netherlands    Manchester United  ...  60+3  63+3   \n",
      "9        183         79      Germany    FC Bayern München  ...  81+2  84+2   \n",
      "\n",
      "    cdm   rdm   rwb    lb   lcb    cb   rcb    rb  \n",
      "0  62+3  62+3  62+3  54+3  45+3  45+3  45+3  54+3  \n",
      "1  63+3  63+3  63+3  57+3  52+3  52+3  52+3  57+3  \n",
      "2  64+3  64+3  64+3  55+3  46+3  46+3  46+3  55+3  \n",
      "3  65+3  65+3  61+3  56+3  55+3  55+3  55+3  56+3  \n",
      "4  40+3  40+3  36+3  36+3  38+3  38+3  38+3  36+3  \n",
      "5  67+3  67+3  67+3  62+3  57+3  57+3  57+3  62+3  \n",
      "6  77+3  77+3  76+3  70+3  63+3  63+3  63+3  70+3  \n",
      "7  64+2  64+2  62+2  54+2  46+2  46+2  46+2  54+2  \n",
      "8  63+3  63+3  60+3  54+3  48+3  48+3  48+3  54+3  \n",
      "9  84+2  84+2  81+2  81+2  79+2  79+2  79+2  81+2  \n",
      "\n",
      "[10 rows x 106 columns]\n"
     ]
    }
   ],
   "source": [
    "print(df.head(10))"
   ]
  },
  {
   "cell_type": "code",
   "execution_count": 72,
   "id": "6c739fe4",
   "metadata": {},
   "outputs": [
    {
     "name": "stdout",
     "output_type": "stream",
     "text": [
      "Shape: (16155, 106)\n",
      "Column names:\n",
      " Index(['sofifa_id', 'player_url', 'short_name', 'long_name', 'age', 'dob',\n",
      "       'height_cm', 'weight_kg', 'nationality', 'club_name',\n",
      "       ...\n",
      "       'lwb', 'ldm', 'cdm', 'rdm', 'rwb', 'lb', 'lcb', 'cb', 'rcb', 'rb'],\n",
      "      dtype='object', length=106)\n",
      "Data types\n",
      " sofifa_id      int64\n",
      "player_url    object\n",
      "short_name    object\n",
      "long_name     object\n",
      "age            int64\n",
      "               ...  \n",
      "lb            object\n",
      "lcb           object\n",
      "cb            object\n",
      "rcb           object\n",
      "rb            object\n",
      "Length: 106, dtype: object\n",
      "           sofifa_id           age                            dob  \\\n",
      "count   16155.000000  16155.000000                          16155   \n",
      "mean   189284.184525     24.776230  1989-03-29 12:10:33.760445696   \n",
      "min         2.000000     16.000000            1969-07-19 00:00:00   \n",
      "25%    178042.500000     21.000000            1986-01-30 00:00:00   \n",
      "50%    200841.000000     24.000000            1989-09-04 00:00:00   \n",
      "75%    214346.000000     28.000000            1993-01-11 00:00:00   \n",
      "max    225562.000000     44.000000            1998-01-25 00:00:00   \n",
      "std     39749.261554      4.625321                            NaN   \n",
      "\n",
      "          height_cm     weight_kg   league_rank       overall     potential  \\\n",
      "count  16155.000000  16155.000000  15916.000000  16155.000000  16155.000000   \n",
      "mean     181.083627     75.474342      1.378424     63.830393     68.350108   \n",
      "min      155.000000     50.000000      1.000000     40.000000     40.000000   \n",
      "25%      176.000000     70.000000      1.000000     59.000000     64.000000   \n",
      "50%      181.000000     75.000000      1.000000     64.000000     68.000000   \n",
      "75%      186.000000     80.000000      2.000000     68.000000     73.000000   \n",
      "max      204.000000    110.000000      4.000000     93.000000     95.000000   \n",
      "std        6.618974      6.891796      0.736796      7.169896      6.580610   \n",
      "\n",
      "          value_eur       wage_eur  ...  mentality_penalties  \\\n",
      "count  1.615500e+04   16155.000000  ...         16155.000000   \n",
      "mean   1.060882e+06   13056.453110  ...            49.648344   \n",
      "min    0.000000e+00       0.000000  ...            20.000000   \n",
      "25%    1.200000e+05    2000.000000  ...            39.000000   \n",
      "50%    3.500000e+05    5000.000000  ...            50.000000   \n",
      "75%    8.250000e+05   10000.000000  ...            61.000000   \n",
      "max    1.005000e+08  550000.000000  ...            95.000000   \n",
      "std    2.819128e+06   23488.182571  ...            14.552244   \n",
      "\n",
      "       mentality_composure  defending_marking  defending_standing_tackle  \\\n",
      "count                  0.0       16155.000000               16155.000000   \n",
      "mean                   NaN          45.009037                  47.656639   \n",
      "min                    NaN          20.000000                  20.000000   \n",
      "25%                    NaN          25.000000                  25.000000   \n",
      "50%                    NaN          46.000000                  52.000000   \n",
      "75%                    NaN          61.000000                  64.000000   \n",
      "max                    NaN          90.000000                  91.000000   \n",
      "std                    NaN          17.915206                  18.743105   \n",
      "\n",
      "       defending_sliding_tackle goalkeeping_diving  goalkeeping_handling  \\\n",
      "count              16155.000000       16155.000000          16155.000000   \n",
      "mean                  45.885918          15.869514             15.511668   \n",
      "min                   20.000000           1.000000              1.000000   \n",
      "25%                   25.000000           8.000000              8.000000   \n",
      "50%                   49.000000          11.000000             11.000000   \n",
      "75%                   62.000000          13.000000             14.000000   \n",
      "max                   95.000000          88.000000             87.000000   \n",
      "std                   18.145497          17.576799             16.414173   \n",
      "\n",
      "       goalkeeping_kicking  goalkeeping_positioning  goalkeeping_reflexes  \n",
      "count         16155.000000             16155.000000          16155.000000  \n",
      "mean             15.354875                15.504735             15.998514  \n",
      "min               1.000000                 1.000000              1.000000  \n",
      "25%               8.000000                 8.000000              8.000000  \n",
      "50%              11.000000                10.000000             10.000000  \n",
      "75%              13.000000                13.000000             13.000000  \n",
      "max              92.000000                90.000000             90.000000  \n",
      "std              16.010498                16.585081             17.983209  \n",
      "\n",
      "[8 rows x 64 columns]\n"
     ]
    }
   ],
   "source": [
    "print(\"Shape:\",df.shape)\n",
    "print(\"Column names:\\n\",df.columns)\n",
    "print(\"Data types\\n\",df.dtypes)\n",
    "print(df.describe())"
   ]
  },
  {
   "cell_type": "code",
   "execution_count": 73,
   "id": "47fdbacb",
   "metadata": {},
   "outputs": [
    {
     "name": "stdout",
     "output_type": "stream",
     "text": [
      "Null values: sofifa_id     0\n",
      "player_url    0\n",
      "short_name    0\n",
      "long_name     0\n",
      "age           0\n",
      "             ..\n",
      "lb            0\n",
      "lcb           0\n",
      "cb            0\n",
      "rcb           0\n",
      "rb            0\n",
      "Length: 106, dtype: int64\n",
      "Duplicated Values: 0\n"
     ]
    }
   ],
   "source": [
    "print(\"Null values:\",df.isnull().sum())\n",
    "print(\"Duplicated Values:\",df.duplicated().sum())"
   ]
  },
  {
   "cell_type": "code",
   "execution_count": 74,
   "id": "25726dac",
   "metadata": {},
   "outputs": [
    {
     "name": "stdout",
     "output_type": "stream",
     "text": [
      "Most Frequent Value in Country name: 0    England\n",
      "Name: nationality, dtype: object\n"
     ]
    }
   ],
   "source": [
    "print(\"Most Frequent Value in Country name:\",df['nationality'].mode())"
   ]
  },
  {
   "cell_type": "code",
   "execution_count": 75,
   "id": "fdad11fa",
   "metadata": {},
   "outputs": [
    {
     "name": "stdout",
     "output_type": "stream",
     "text": [
      "577\n",
      "149\n"
     ]
    }
   ],
   "source": [
    "print(df['club_name'].nunique())\n",
    "print(df['nationality'].nunique())"
   ]
  },
  {
   "cell_type": "code",
   "execution_count": 76,
   "id": "0bf98c75",
   "metadata": {},
   "outputs": [
    {
     "name": "stdout",
     "output_type": "stream",
     "text": [
      "93\n",
      "\n"
     ]
    }
   ],
   "source": [
    "print(max(df['overall']))\n",
    "print()"
   ]
  },
  {
   "cell_type": "markdown",
   "id": "6f408238",
   "metadata": {},
   "source": [
    "Part 2 – EDA (Exploratory Data Analysis)\n",
    "Plot a histogram of player ages.\n",
    "\n",
    "\n",
    "Find the top 10 players by overall rating.\n",
    "\n",
    "\n",
    "Average player age per club.\n",
    "\n",
    "\n",
    "Scatter plot: overall vs potential.\n",
    "\n",
    "\n",
    "Bar chart of average wage by nationality (top 10).\n",
    "\n",
    "\n",
    "Boxplot of overall ratings grouped by position.\n",
    "\n",
    "\n",
    "Find the top 10 players with the highest market value.\n"
   ]
  },
  {
   "cell_type": "code",
   "execution_count": 77,
   "id": "7b8f2df5",
   "metadata": {},
   "outputs": [
    {
     "data": {
      "text/plain": [
       "Text(0, 0.5, 'Count')"
      ]
     },
     "execution_count": 77,
     "metadata": {},
     "output_type": "execute_result"
    },
    {
     "data": {
      "image/png": "[encoded data removed]",
      "text/plain": [
       "<Figure size 640x480 with 1 Axes>"
      ]
     },
     "metadata": {},
     "output_type": "display_data"
    }
   ],
   "source": [
    "plt.hist(df['age'],bins=6,edgecolor=\"black\",color=\"red\")\n",
    "plt.xlabel(\"Age\")\n",
    "plt.ylabel(\"Count\")"
   ]
  },
  {
   "cell_type": "code",
   "execution_count": 78,
   "id": "c6542b5d",
   "metadata": {},
   "outputs": [
    {
     "name": "stdout",
     "output_type": "stream",
     "text": [
      "10891      A. Pierobon\n",
      "16145    B. Richardson\n",
      "3730      Kim Byung Ji\n",
      "15964       P. Mathers\n",
      "470         B. Friedel\n",
      "8011      M. Hahnemann\n",
      "13071         S. Banks\n",
      "6210          J. Henao\n",
      "15965         A. Bayes\n",
      "2664         C. Blanco\n",
      "Name: short_name, dtype: object\n"
     ]
    }
   ],
   "source": [
    "for_overall=df.sort_values(by='age',ascending=False)\n",
    "print(for_overall.head(10)['short_name'])"
   ]
  },
  {
   "cell_type": "code",
   "execution_count": 79,
   "id": "86ec9874",
   "metadata": {},
   "outputs": [
    {
     "data": {
      "text/plain": [
       "Text(0, 0.5, 'potential')"
      ]
     },
     "execution_count": 79,
     "metadata": {},
     "output_type": "execute_result"
    },
    {
     "data": {
      "image/png": "[encoded data removed]",
      "text/plain": [
       "<Figure size 640x480 with 1 Axes>"
      ]
     },
     "metadata": {},
     "output_type": "display_data"
    }
   ],
   "source": [
    "plt.scatter(df['overall'],df['potential'],linewidths=0,s=10)\n",
    "plt.xlabel('overall')\n",
    "plt.ylabel('potential')"
   ]
  },
  {
   "cell_type": "code",
   "execution_count": 80,
   "id": "a02e37b7",
   "metadata": {},
   "outputs": [
    {
     "data": {
      "text/plain": [
       "club_name\n",
       "1. FC Heidenheim 1846       24.708333\n",
       "1. FC Kaiserslautern        23.142857\n",
       "1. FC Köln                  24.214286\n",
       "1. FC Nürnberg              23.250000\n",
       "1. FC Union Berlin          24.107143\n",
       "                              ...    \n",
       "Åtvidabergs FF              26.538462\n",
       "Çaykur Rizespor             25.846154\n",
       "Évian Thonon Gaillard FC    25.709677\n",
       "Örebro SK                   24.615385\n",
       "Śląsk Wrocław               25.000000\n",
       "Name: age, Length: 577, dtype: float64"
      ]
     },
     "execution_count": 80,
     "metadata": {},
     "output_type": "execute_result"
    }
   ],
   "source": [
    "df.groupby('club_name')['age'].mean()"
   ]
  },
  {
   "cell_type": "code",
   "execution_count": 81,
   "id": "b5e3013d",
   "metadata": {},
   "outputs": [],
   "source": [
    "#grouped=df.groupby('player_positions')['overall']\n",
    "#plt.boxplot(grouped)"
   ]
  },
  {
   "cell_type": "markdown",
   "id": "1712f0df",
   "metadata": {},
   "source": [
    "Part 3 – Statistics\n",
    "Calculate the mean, median, and mode of overall.\n",
    "\n",
    "\n",
    "Find variance and standard deviation of overall.\n",
    "\n",
    "\n",
    "Correlation between age and overall rating.\n",
    "\n",
    "\n",
    "Percentage of players with potential > 85.\n"
   ]
  },
  {
   "cell_type": "code",
   "execution_count": null,
   "id": "1c080d57",
   "metadata": {},
   "outputs": [
    {
     "name": "stdout",
     "output_type": "stream",
     "text": [
      "63.83039306716187\n",
      "64.0\n",
      "0    64\n",
      "Name: overall, dtype: int64\n",
      "51.40422636979408\n",
      "7.16967407695734\n",
      "[[1.         0.43697553]\n",
      " [0.43697553 1.        ]]\n"
     ]
    }
   ],
   "source": [
    "print(np.mean(df['overall']))\n",
    "print(np.median(df['overall']))\n",
    "print(df['overall'].mode())\n",
    "print(np.var(df['overall']))\n",
    "print(np.std(df['overall']))\n",
    "print(np.corrcoef(df['overall'],df['age']))"
   ]
  },
  {
   "cell_type": "code",
   "execution_count": null,
   "id": "8441f696",
   "metadata": {},
   "outputs": [
    {
     "name": "stdout",
     "output_type": "stream",
     "text": [
      "0.6375735066542866\n"
     ]
    }
   ],
   "source": [
    "count=df[df['potential']>85]\n",
    "total_age=df['potential'].value_counts().sum()\n",
    "some_value=count['potential'].value_counts().sum()\n",
    "print((some_value/total_age)*100)"
   ]
  },
  {
   "cell_type": "markdown",
   "id": "e98c497c",
   "metadata": {},
   "source": [
    "Part 4 – Linear Algebra & NumPy\n",
    "Create NumPy arrays for overall and potential.\n",
    "\n",
    "\n",
    "Perform vector subtraction (potential - overall).\n",
    "\n",
    "\n",
    "Compute the dot product between these arrays.\n",
    "\n",
    "\n",
    "Normalize the overall array using vector normalization.\n"
   ]
  },
  {
   "cell_type": "code",
   "execution_count": 82,
   "id": "1a0dd525",
   "metadata": {},
   "outputs": [
    {
     "name": "stdout",
     "output_type": "stream",
     "text": [
      "[93 92 90 ... 40 40 40]\n",
      "[95 92 90 ... 50 49 40]\n"
     ]
    }
   ],
   "source": [
    "overall_np=np.array(df['overall'])\n",
    "potential_np=np.array(df['potential'])\n",
    "print(overall_np)\n",
    "print(potential_np)"
   ]
  },
  {
   "cell_type": "code",
   "execution_count": 83,
   "id": "13f52a80",
   "metadata": {},
   "outputs": [
    {
     "name": "stdout",
     "output_type": "stream",
     "text": [
      "[ 2  0  0 ... 10  9  0]\n",
      "71094023\n",
      "[0.01139146 0.01126897 0.01102399 ... 0.00489955 0.00489955 0.00489955]\n"
     ]
    }
   ],
   "source": [
    "print(potential_np-overall_np)\n",
    "print(np.dot(potential_np,overall_np))\n",
    "print(overall_np/np.linalg.norm(overall_np))"
   ]
  },
  {
   "cell_type": "markdown",
   "id": "2eef469a",
   "metadata": {},
   "source": [
    "Part 5 – Calculus\n",
    "Assume:\n",
    " Performance_Score = (overall)^2 + 0.5×potential\n",
    " Find derivative wrt overall.\n"
   ]
  },
  {
   "cell_type": "code",
   "execution_count": 84,
   "id": "b06135c0",
   "metadata": {},
   "outputs": [
    {
     "name": "stdout",
     "output_type": "stream",
     "text": [
      "2*overall\n"
     ]
    }
   ],
   "source": [
    "overall,potential = sp.symbols('overall potential')\n",
    "performance_score = overall**2+0.5*potential\n",
    "derivative= sp.diff(performance_score, overall)\n",
    "print(derivative)\n"
   ]
  },
  {
   "cell_type": "markdown",
   "id": "601e572d",
   "metadata": {},
   "source": [
    "Part 6 – Feature Engineering\n",
    "Create is_elite = 1 if overall ≥ 85 else 0.\n",
    "\n",
    "\n",
    "Create value_million = value_eur / 1,000,000.\n",
    "\n",
    "\n",
    "Create wage_thousand = wage_eur / 1,000.\n",
    "\n",
    "\n",
    "Create a binary column high_growth = 1 if growth > 5 else 0.\n",
    "\n",
    "\n",
    "Extract the primary position from player_positions.\n"
   ]
  },
  {
   "cell_type": "code",
   "execution_count": 87,
   "id": "ffd448df",
   "metadata": {},
   "outputs": [
    {
     "name": "stdout",
     "output_type": "stream",
     "text": [
      "0         True\n",
      "1         True\n",
      "2         True\n",
      "3         True\n",
      "4         True\n",
      "         ...  \n",
      "16150    False\n",
      "16151    False\n",
      "16152    False\n",
      "16153    False\n",
      "16154    False\n",
      "Name: is_elite, Length: 16155, dtype: bool\n",
      "0        100.500\n",
      "1         79.000\n",
      "2         54.500\n",
      "3         52.500\n",
      "4         63.500\n",
      "          ...   \n",
      "16150      0.020\n",
      "16151      0.030\n",
      "16152      0.015\n",
      "16153      0.015\n",
      "16154      0.000\n",
      "Name: value_million, Length: 16155, dtype: float64\n",
      "0        550.0\n",
      "1        375.0\n",
      "2        275.0\n",
      "3        275.0\n",
      "4        300.0\n",
      "         ...  \n",
      "16150      2.0\n",
      "16151      2.0\n",
      "16152      2.0\n",
      "16153      2.0\n",
      "16154      2.0\n",
      "Name: wage_thousand, Length: 16155, dtype: float64\n"
     ]
    }
   ],
   "source": [
    "df['is_elite']=df['overall']>=85\n",
    "df['is_elite'].astype(int)\n",
    "print(df['is_elite'])\n",
    "df['value_million']=df['value_eur']/1000000\n",
    "print(df['value_million'])\n",
    "df['wage_thousand']=df['wage_eur']/1000\n",
    "print(df['wage_thousand'])"
   ]
  },
  {
   "cell_type": "code",
   "execution_count": 88,
   "id": "0a327640",
   "metadata": {},
   "outputs": [
    {
     "name": "stdout",
     "output_type": "stream",
     "text": [
      "0        CF\n",
      "1        LW\n",
      "2        RM\n",
      "3        ST\n",
      "4        GK\n",
      "         ..\n",
      "16150    CB\n",
      "16151    ST\n",
      "16152    LM\n",
      "16153    CB\n",
      "16154    CM\n",
      "Name: primary_position, Length: 16155, dtype: object\n"
     ]
    }
   ],
   "source": [
    "df['primary_position']=df['player_positions'].str.split(',').str[0]\n",
    "print(df['primary_position'])"
   ]
  },
  {
   "cell_type": "markdown",
   "id": "699bbf68",
   "metadata": {},
   "source": [
    "Part 7 – SQL Simulation in Pandas\n",
    "Select all players with overall > 85.\n",
    "\n",
    "\n",
    "Sort players by value_eur descending.\n",
    "\n",
    "\n",
    "Group by nationality and count players.\n",
    "\n",
    "\n",
    "Get top 5 clubs with highest average overall."
   ]
  },
  {
   "cell_type": "code",
   "execution_count": 89,
   "id": "db671a57",
   "metadata": {},
   "outputs": [
    {
     "name": "stdout",
     "output_type": "stream",
     "text": [
      "0                L. Messi\n",
      "1       Cristiano Ronaldo\n",
      "2               A. Robben\n",
      "3          Z. Ibrahimović\n",
      "4                M. Neuer\n",
      "              ...        \n",
      "1526         Y. Tielemans\n",
      "2353           S. Scuffet\n",
      "2815            J. Brandt\n",
      "2816         A. Halilović\n",
      "3360          R. Živković\n",
      "Name: short_name, Length: 103, dtype: object\n",
      "       sofifa_id                                         player_url  \\\n",
      "0         158023  https://sofifa.com/player/158023/lionel-messi/...   \n",
      "1          20801  https://sofifa.com/player/20801/c-ronaldo-dos-...   \n",
      "4         167495  https://sofifa.com/player/167495/manuel-neuer/...   \n",
      "2           9014  https://sofifa.com/player/9014/arjen-robben/15...   \n",
      "3          41236  https://sofifa.com/player/41236/zlatan-ibrahim...   \n",
      "...          ...                                                ...   \n",
      "9053      137011  https://sofifa.com/player/137011/pavel-pergl/1...   \n",
      "10595     212022  https://sofifa.com/player/212022/adrian-bone/1...   \n",
      "10512     209241  https://sofifa.com/player/209241/gregor-balazi...   \n",
      "10527     218543  https://sofifa.com/player/218543/loic-feudjou/...   \n",
      "10504     205094  https://sofifa.com/player/205094/young-cheol-c...   \n",
      "\n",
      "              short_name                            long_name  age        dob  \\\n",
      "0               L. Messi       Lionel Andrés Messi Cuccittini   27 1987-06-24   \n",
      "1      Cristiano Ronaldo  Cristiano Ronaldo dos Santos Aveiro   29 1985-02-05   \n",
      "4               M. Neuer                         Manuel Neuer   28 1986-03-27   \n",
      "2              A. Robben                         Arjen Robben   30 1984-01-23   \n",
      "3         Z. Ibrahimović                   Zlatan Ibrahimović   32 1981-10-03   \n",
      "...                  ...                                  ...  ...        ...   \n",
      "9053            P. Pergl                 Pavel Pristine Pergl   36 1977-11-14   \n",
      "10595            A. Bone           Adrián Javier Bone Sánchez   25 1988-09-08   \n",
      "10512         G. Balažic                       Gregor Balažic   26 1988-02-12   \n",
      "10527         L. Feudjou         Loïc Maxime Feudjou Nguegang   22 1992-04-14   \n",
      "10504    Cho Young Cheol                              조영철 曹永哲   25 1989-05-31   \n",
      "\n",
      "       height_cm  weight_kg     nationality            club_name  ...   rwb  \\\n",
      "0            169         67       Argentina         FC Barcelona  ...  62+3   \n",
      "1            185         80        Portugal          Real Madrid  ...  63+3   \n",
      "4            193         92         Germany    FC Bayern München  ...  36+3   \n",
      "2            180         80     Netherlands    FC Bayern München  ...  64+3   \n",
      "3            195         95          Sweden  Paris Saint-Germain  ...  61+3   \n",
      "...          ...        ...             ...                  ...  ...   ...   \n",
      "9053         187         77  Czech Republic             FC Vaduz  ...  62+0   \n",
      "10595        187         81         Ecuador                  NaN  ...  27+0   \n",
      "10512        190         82        Slovenia                  NaN  ...  53+0   \n",
      "10527        182         86        Cameroon                  NaN  ...  28+0   \n",
      "10504        181         74  Korea Republic                  NaN  ...  60+0   \n",
      "\n",
      "         lb   lcb    cb   rcb    rb is_elite value_million  wage_thousand  \\\n",
      "0      54+3  45+3  45+3  45+3  54+3     True         100.5          550.0   \n",
      "1      57+3  52+3  52+3  52+3  57+3     True          79.0          375.0   \n",
      "4      36+3  38+3  38+3  38+3  36+3     True          63.5          300.0   \n",
      "2      55+3  46+3  46+3  46+3  55+3     True          54.5          275.0   \n",
      "3      56+3  55+3  55+3  55+3  56+3     True          52.5          275.0   \n",
      "...     ...   ...   ...   ...   ...      ...           ...            ...   \n",
      "9053   63+0  63+0  63+0  63+0  63+0    False           0.0            2.0   \n",
      "10595  27+0  27+0  27+0  27+0  27+0    False           0.0            0.0   \n",
      "10512  57+0  61+0  61+0  61+0  57+0    False           0.0            0.0   \n",
      "10527  28+0  32+0  32+0  32+0  28+0    False           0.0            0.0   \n",
      "10504  61+0  58+0  58+0  58+0  61+0    False           0.0            0.0   \n",
      "\n",
      "       primary_position  \n",
      "0                    CF  \n",
      "1                    LW  \n",
      "4                    GK  \n",
      "2                    RM  \n",
      "3                    ST  \n",
      "...                 ...  \n",
      "9053                 RB  \n",
      "10595                GK  \n",
      "10512                CB  \n",
      "10527                GK  \n",
      "10504                RM  \n",
      "\n",
      "[16155 rows x 110 columns]\n",
      "nationality\n",
      "Albania               33\n",
      "Algeria               41\n",
      "Angola                 6\n",
      "Antigua & Barbuda      4\n",
      "Argentina            867\n",
      "                    ... \n",
      "Uzbekistan             6\n",
      "Venezuela             51\n",
      "Wales                118\n",
      "Zambia                 4\n",
      "Zimbabwe              12\n",
      "Length: 149, dtype: int64\n"
     ]
    }
   ],
   "source": [
    "print(count['short_name'])\n",
    "print(df.sort_values(by='value_eur',ascending=False))\n",
    "group=df.groupby('nationality').size()\n",
    "print(group)\n"
   ]
  },
  {
   "cell_type": "code",
   "execution_count": 90,
   "id": "4225ea18",
   "metadata": {},
   "outputs": [
    {
     "name": "stdout",
     "output_type": "stream",
     "text": [
      "club_name\n",
      "FC Barcelona           80.120000\n",
      "FC Bayern München      78.586207\n",
      "Paris Saint-Germain    77.666667\n",
      "Milan                  76.666667\n",
      "Real Madrid            75.212121\n",
      "Name: overall, dtype: float64\n"
     ]
    }
   ],
   "source": [
    "top_5=df.groupby('club_name')['overall'].mean()\n",
    "top_5.sort_values(ascending=False,inplace=True)\n",
    "print(top_5.head(5))"
   ]
  },
  {
   "cell_type": "markdown",
   "id": "39e5f662",
   "metadata": {},
   "source": [
    "Part 8 – Insights\n",
    "Which player has the highest market value?\n",
    "\n",
    "\n",
    "Which club has the highest average overall rating?\n",
    "\n",
    "\n",
    "Which nationality has the most players?\n",
    "\n",
    "\n",
    "Is there a strong correlation between potential and overall?\n",
    "\n",
    "\n",
    "What percentage of players are “elite” (overall ≥ 85)?\n"
   ]
  },
  {
   "cell_type": "code",
   "execution_count": null,
   "id": "2cad8e95",
   "metadata": {},
   "outputs": [],
   "source": []
  },
  {
   "cell_type": "code",
   "execution_count": 91,
   "id": "ae7d3786",
   "metadata": {},
   "outputs": [
    {
     "name": "stdout",
     "output_type": "stream",
     "text": [
      "  short_name  value_eur\n",
      "0   L. Messi  100500000\n"
     ]
    }
   ],
   "source": [
    "print(df.sort_values(by='value_eur', ascending=False).head(1)[['short_name','value_eur']])"
   ]
  },
  {
   "cell_type": "code",
   "execution_count": 92,
   "id": "fe2aefe0",
   "metadata": {},
   "outputs": [
    {
     "name": "stdout",
     "output_type": "stream",
     "text": [
      "club_name\n",
      "FC Barcelona    80.12\n",
      "Name: overall, dtype: float64\n"
     ]
    }
   ],
   "source": [
    "print(top_5.head(1))"
   ]
  },
  {
   "cell_type": "code",
   "execution_count": 93,
   "id": "82cfda0c",
   "metadata": {},
   "outputs": [
    {
     "name": "stdout",
     "output_type": "stream",
     "text": [
      "nationality\n",
      "England    1627\n",
      "dtype: int64\n"
     ]
    }
   ],
   "source": [
    "group.sort_values(ascending=False,inplace=True)\n",
    "print(group.head(1))\n"
   ]
  },
  {
   "cell_type": "code",
   "execution_count": 94,
   "id": "3ca89808",
   "metadata": {},
   "outputs": [
    {
     "name": "stdout",
     "output_type": "stream",
     "text": [
      "[[1.         0.80395195]\n",
      " [0.80395195 1.        ]]\n"
     ]
    }
   ],
   "source": [
    "print(np.corrcoef(df['potential'],df['overall']))"
   ]
  },
  {
   "cell_type": "code",
   "execution_count": 95,
   "id": "f5dffbf0",
   "metadata": {},
   "outputs": [
    {
     "name": "stdout",
     "output_type": "stream",
     "text": [
      "0.2785515320334262\n"
     ]
    }
   ],
   "source": [
    "elite_per=df[df['is_elite']==1]['is_elite'].count()\n",
    "elite_per=(elite_per/df['is_elite'].size)*100\n",
    "print(elite_per)\n"
   ]
  },
  {
   "cell_type": "code",
   "execution_count": 96,
   "id": "3eae3b29",
   "metadata": {},
   "outputs": [
    {
     "data": {
      "text/plain": [
       "np.int64(0)"
      ]
     },
     "execution_count": 96,
     "metadata": {},
     "output_type": "execute_result"
    }
   ],
   "source": [
    "df['can_be_release']=((df['release_clause_eur']-df['value_eur'])>0)\n",
    "df['can_be_release'].sum()\n"
   ]
  },
  {
   "cell_type": "code",
   "execution_count": 97,
   "id": "30f24c2d",
   "metadata": {},
   "outputs": [
    {
     "name": "stdout",
     "output_type": "stream",
     "text": [
      "<class 'numpy.float64'>\n",
      "<class 'numpy.int64'>\n"
     ]
    }
   ],
   "source": [
    "print(type(df['release_clause_eur'].iloc[0]))\n",
    "print(type(df['value_eur'].iloc[0]))\n"
   ]
  },
  {
   "cell_type": "code",
   "execution_count": 98,
   "id": "5b473486",
   "metadata": {},
   "outputs": [
    {
     "name": "stdout",
     "output_type": "stream",
     "text": [
      "0        False\n",
      "1        False\n",
      "2        False\n",
      "3        False\n",
      "4        False\n",
      "         ...  \n",
      "16150     True\n",
      "16151     True\n",
      "16152     True\n",
      "16153     True\n",
      "16154     True\n",
      "Name: loss_for_player, Length: 16155, dtype: bool\n",
      "5303\n",
      "0        False\n",
      "1        False\n",
      "2        False\n",
      "3        False\n",
      "4        False\n",
      "         ...  \n",
      "16150     True\n",
      "16151     True\n",
      "16152     True\n",
      "16153     True\n",
      "16154     True\n",
      "Name: can_move_to_another_club, Length: 16155, dtype: bool\n"
     ]
    }
   ],
   "source": [
    "df['loss_for_player']=(df['value_eur']-df['wage_eur']*52)<0\n",
    "print(df['loss_for_player'])\n",
    "print(df['loss_for_player'].sum())\n",
    "df['can_move_to_another_club']=df['loss_for_player']\n",
    "print(df['can_move_to_another_club'])\n"
   ]
  },
  {
   "cell_type": "markdown",
   "id": "f91538f8",
   "metadata": {},
   "source": [
    "Scale: Often from 1 to 5, where:\n",
    "\n",
    "1 → Unknown or very low reputation internationally\n",
    "\n",
    "2-3 → Some recognition, maybe known in domestic leagues or regional competitions\n",
    "\n",
    "4-5 → Widely recognized globally, often national team stars or top players"
   ]
  },
  {
   "cell_type": "code",
   "execution_count": 99,
   "id": "741063f5",
   "metadata": {},
   "outputs": [
    {
     "name": "stdout",
     "output_type": "stream",
     "text": [
      "0         True\n",
      "1         True\n",
      "2         True\n",
      "3         True\n",
      "4         True\n",
      "         ...  \n",
      "16150    False\n",
      "16151    False\n",
      "16152    False\n",
      "16153    False\n",
      "16154    False\n",
      "Name: star_players, Length: 16155, dtype: bool\n"
     ]
    }
   ],
   "source": [
    "df['star_players']=df['international_reputation']>=4\n",
    "print(df['star_players'])"
   ]
  },
  {
   "cell_type": "code",
   "execution_count": 100,
   "id": "bf2e5ab5",
   "metadata": {},
   "outputs": [
    {
     "name": "stdout",
     "output_type": "stream",
     "text": [
      "0        True\n",
      "1        True\n",
      "2        True\n",
      "3        True\n",
      "4        True\n",
      "         ... \n",
      "16150    True\n",
      "16151    True\n",
      "16152    True\n",
      "16153    True\n",
      "16154    True\n",
      "Name: contract_expiry, Length: 16155, dtype: bool\n"
     ]
    }
   ],
   "source": [
    "df['contract_expiry']=df['contract_valid_until']<=2021\n",
    "print(df['contract_expiry'])"
   ]
  },
  {
   "cell_type": "code",
   "execution_count": 101,
   "id": "4aa192d9",
   "metadata": {},
   "outputs": [
    {
     "data": {
      "text/plain": [
       "(16155, 115)"
      ]
     },
     "execution_count": 101,
     "metadata": {},
     "output_type": "execute_result"
    }
   ],
   "source": [
    "df.shape"
   ]
  },
  {
   "cell_type": "markdown",
   "id": "951d14f5",
   "metadata": {},
   "source": []
  }
 ],
 "metadata": {
  "kernelspec": {
   "display_name": "venv",
   "language": "python",
   "name": "python3"
  },
  "language_info": {
   "codemirror_mode": {
    "name": "ipython",
    "version": 3
   },
   "file_extension": ".py",
   "mimetype": "text/x-python",
   "name": "python",
   "nbconvert_exporter": "python",
   "pygments_lexer": "ipython3",
   "version": "3.13.0"
  }
 },
 "nbformat": 4,
 "nbformat_minor": 5
}
